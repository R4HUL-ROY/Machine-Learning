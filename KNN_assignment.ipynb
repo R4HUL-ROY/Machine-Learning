{
  "nbformat": 4,
  "nbformat_minor": 0,
  "metadata": {
    "colab": {
      "name": "KNN_assignment.ipynb",
      "provenance": [],
      "collapsed_sections": [],
      "mount_file_id": "1OZnN_mI6kB2k06906JLYUUT9vAu3AdTW",
      "authorship_tag": "ABX9TyPOmLyRO6F7YkS0lctbutt6",
      "include_colab_link": true
    },
    "kernelspec": {
      "name": "python3",
      "display_name": "Python 3"
    },
    "language_info": {
      "name": "python"
    }
  },
  "cells": [
    {
      "cell_type": "markdown",
      "metadata": {
        "id": "view-in-github",
        "colab_type": "text"
      },
      "source": [
        "<a href=\"https://colab.research.google.com/github/R4HUL-ROY/Machine-Learning/blob/main/KNN_assignment.ipynb\" target=\"_parent\"><img src=\"https://colab.research.google.com/assets/colab-badge.svg\" alt=\"Open In Colab\"/></a>"
      ]
    },
    {
      "cell_type": "markdown",
      "metadata": {
        "id": "dlhoQKEbvwUV"
      },
      "source": [
        "**ASSIGNMENT ON K-NN CLASSIFICATION**\n",
        "\n",
        "**NAME : RAHUL ROY**\n",
        "\n",
        "**MCA 2nd SEM**\n",
        "\n",
        "**ROLL : C91/MCA/202032**\n",
        "\n",
        "---------------------------------------------------------\n",
        "\n"
      ]
    },
    {
      "cell_type": "code",
      "metadata": {
        "id": "aPIrFJ0JEBcX"
      },
      "source": [
        "import numpy as np\n",
        "import pandas as pd"
      ],
      "execution_count": null,
      "outputs": []
    },
    {
      "cell_type": "markdown",
      "metadata": {
        "id": "V9SCdARZav6m"
      },
      "source": [
        "**Choose dataset**"
      ]
    },
    {
      "cell_type": "code",
      "metadata": {
        "id": "w1l6A3sDCiC5"
      },
      "source": [
        "# READ DATASET - 1\n",
        "# irish dataset\n",
        "\n",
        "from sklearn import datasets\n",
        "myiris = datasets.load_iris()\n",
        "# print(myiris)\n",
        "x = myiris.data\n",
        "y = myiris.target"
      ],
      "execution_count": null,
      "outputs": []
    },
    {
      "cell_type": "code",
      "metadata": {
        "colab": {
          "base_uri": "https://localhost:8080/"
        },
        "id": "0gZWHr4VuS3q",
        "outputId": "47f361e9-3d33-4122-a391-a2085a784229"
      },
      "source": [
        "# READ DATASET - 2\n",
        "# kaggle diabetes classification dataset\n",
        "# link of this dataset https://www.kaggle.com/uciml/pima-indians-diabetes-database\n",
        "\n",
        "df = pd.read_csv('/content/drive/My Drive/Colab Notebooks/diabetes.csv')\n",
        "print(df.shape)\n",
        "\n",
        "data_df = df[['Pregnancies', 'Glucose', 'BloodPressure', 'SkinThickness', 'Insulin',\n",
        "       'BMI', 'DiabetesPedigreeFunction', 'Age']]\n",
        "\n",
        "result_df = df['Outcome']       \n",
        "\n",
        "x = np.array(data_df)\n",
        "y = np.array(result_df)\n"
      ],
      "execution_count": null,
      "outputs": [
        {
          "output_type": "stream",
          "text": [
            "(768, 9)\n"
          ],
          "name": "stdout"
        }
      ]
    },
    {
      "cell_type": "code",
      "metadata": {
        "colab": {
          "base_uri": "https://localhost:8080/"
        },
        "id": "lWcmOQmP_-ir",
        "outputId": "d2eb7c66-b97f-4b65-feb8-38efa2062369"
      },
      "source": [
        "# READ DATASET - 3\n",
        "# Breast Cancer Wisconsin (Diagnostic) Data Set\n",
        "# link for this dataset  https://www.kaggle.com/uciml/breast-cancer-wisconsin-data\n",
        "\n",
        "df = pd.read_csv('/content/drive/My Drive/Colab Notebooks/data.csv')\n",
        "print(df.shape)\n",
        "\n",
        "data_df = df[['radius_mean', 'texture_mean', 'perimeter_mean',\n",
        "       'area_mean', 'smoothness_mean', 'compactness_mean', 'concavity_mean',\n",
        "       'concave points_mean', 'symmetry_mean', 'fractal_dimension_mean',\n",
        "       'radius_se', 'texture_se', 'perimeter_se', 'area_se', 'smoothness_se',\n",
        "       'compactness_se', 'concavity_se', 'concave points_se', 'symmetry_se',\n",
        "       'fractal_dimension_se', 'radius_worst', 'texture_worst',\n",
        "       'perimeter_worst', 'area_worst', 'smoothness_worst',\n",
        "       'compactness_worst', 'concavity_worst', 'concave points_worst',\n",
        "       'symmetry_worst', 'fractal_dimension_worst']]\n",
        "\n",
        "result_df = df['diagnosis']\n",
        "\n",
        "x = np.array(data_df)\n",
        "y = np.array(result_df)\n"
      ],
      "execution_count": null,
      "outputs": [
        {
          "output_type": "stream",
          "text": [
            "(569, 33)\n"
          ],
          "name": "stdout"
        }
      ]
    },
    {
      "cell_type": "code",
      "metadata": {
        "colab": {
          "base_uri": "https://localhost:8080/"
        },
        "id": "0wMbJu12o_XD",
        "outputId": "a8f68138-c639-4d8f-9179-49e10bb29416"
      },
      "source": [
        "# READ DATASET 4\n",
        "# winequality classifcation dataset\n",
        "\n",
        "df = pd.read_csv('/content/drive/My Drive/Colab Notebooks/winequality-red.csv')\n",
        "print(df.shape)\n",
        "\n",
        "data_df = df[['fixed acidity', 'volatile acidity', 'citric acid', 'residual sugar',\n",
        "       'chlorides', 'free sulfur dioxide', 'total sulfur dioxide', 'density',\n",
        "       'pH', 'sulphates', 'alcohol']]\n",
        "\n",
        "result_df = df['quality']\n",
        "\n",
        "x = np.array(data_df)\n",
        "y = np.array(result_df)"
      ],
      "execution_count": null,
      "outputs": [
        {
          "output_type": "stream",
          "text": [
            "(1599, 12)\n"
          ],
          "name": "stdout"
        }
      ]
    },
    {
      "cell_type": "code",
      "metadata": {
        "colab": {
          "base_uri": "https://localhost:8080/"
        },
        "id": "O6HBkqbgl92X",
        "outputId": "155fa398-2a3b-420a-f7dc-ae9690a1cf45"
      },
      "source": [
        "## DATASET - 5    // CATAGORICAL DATASET\n",
        "# CAR DATASET    link : http://archive.ics.uci.edu/ml/datasets/Car+Evaluation\n",
        "\n",
        "\n",
        "df = pd.read_csv('/content/drive/My Drive/Colab Notebooks/car.csv')\n",
        "\n",
        "## renaming the column names\n",
        "col_name = ['buying', 'maint', 'doors' , 'persons', 'lug_boot', 'safety', 'class']\n",
        "df.columns = col_name\n",
        "\n",
        "data_df = df[['buying', 'maint', 'doors', 'persons', 'lug_boot', 'safety']]\n",
        "result_df = df['class']\n",
        "\n",
        "x = np.array(data_df)\n",
        "y = np.array(result_df)\n",
        "\n",
        "print(df.shape)\n",
        "print(x.shape)\n",
        "print(y.shape)"
      ],
      "execution_count": null,
      "outputs": [
        {
          "output_type": "stream",
          "text": [
            "(1727, 7)\n",
            "(1727, 6)\n",
            "(1727,)\n"
          ],
          "name": "stdout"
        }
      ]
    },
    {
      "cell_type": "code",
      "metadata": {
        "colab": {
          "base_uri": "https://localhost:8080/",
          "height": 197
        },
        "id": "H911TqThKj9V",
        "outputId": "6cf8b49b-5a84-4898-aff6-3d8bdaf57aa6"
      },
      "source": [
        "df.head(5)"
      ],
      "execution_count": null,
      "outputs": [
        {
          "output_type": "execute_result",
          "data": {
            "text/html": [
              "<div>\n",
              "<style scoped>\n",
              "    .dataframe tbody tr th:only-of-type {\n",
              "        vertical-align: middle;\n",
              "    }\n",
              "\n",
              "    .dataframe tbody tr th {\n",
              "        vertical-align: top;\n",
              "    }\n",
              "\n",
              "    .dataframe thead th {\n",
              "        text-align: right;\n",
              "    }\n",
              "</style>\n",
              "<table border=\"1\" class=\"dataframe\">\n",
              "  <thead>\n",
              "    <tr style=\"text-align: right;\">\n",
              "      <th></th>\n",
              "      <th>buying</th>\n",
              "      <th>maint</th>\n",
              "      <th>doors</th>\n",
              "      <th>persons</th>\n",
              "      <th>lug_boot</th>\n",
              "      <th>safety</th>\n",
              "      <th>class</th>\n",
              "    </tr>\n",
              "  </thead>\n",
              "  <tbody>\n",
              "    <tr>\n",
              "      <th>0</th>\n",
              "      <td>vhigh</td>\n",
              "      <td>vhigh</td>\n",
              "      <td>2</td>\n",
              "      <td>2</td>\n",
              "      <td>small</td>\n",
              "      <td>med</td>\n",
              "      <td>unacc</td>\n",
              "    </tr>\n",
              "    <tr>\n",
              "      <th>1</th>\n",
              "      <td>vhigh</td>\n",
              "      <td>vhigh</td>\n",
              "      <td>2</td>\n",
              "      <td>2</td>\n",
              "      <td>small</td>\n",
              "      <td>high</td>\n",
              "      <td>unacc</td>\n",
              "    </tr>\n",
              "    <tr>\n",
              "      <th>2</th>\n",
              "      <td>vhigh</td>\n",
              "      <td>vhigh</td>\n",
              "      <td>2</td>\n",
              "      <td>2</td>\n",
              "      <td>med</td>\n",
              "      <td>low</td>\n",
              "      <td>unacc</td>\n",
              "    </tr>\n",
              "    <tr>\n",
              "      <th>3</th>\n",
              "      <td>vhigh</td>\n",
              "      <td>vhigh</td>\n",
              "      <td>2</td>\n",
              "      <td>2</td>\n",
              "      <td>med</td>\n",
              "      <td>med</td>\n",
              "      <td>unacc</td>\n",
              "    </tr>\n",
              "    <tr>\n",
              "      <th>4</th>\n",
              "      <td>vhigh</td>\n",
              "      <td>vhigh</td>\n",
              "      <td>2</td>\n",
              "      <td>2</td>\n",
              "      <td>med</td>\n",
              "      <td>high</td>\n",
              "      <td>unacc</td>\n",
              "    </tr>\n",
              "  </tbody>\n",
              "</table>\n",
              "</div>"
            ],
            "text/plain": [
              "  buying  maint doors persons lug_boot safety  class\n",
              "0  vhigh  vhigh     2       2    small    med  unacc\n",
              "1  vhigh  vhigh     2       2    small   high  unacc\n",
              "2  vhigh  vhigh     2       2      med    low  unacc\n",
              "3  vhigh  vhigh     2       2      med    med  unacc\n",
              "4  vhigh  vhigh     2       2      med   high  unacc"
            ]
          },
          "metadata": {
            "tags": []
          },
          "execution_count": 28
        }
      ]
    },
    {
      "cell_type": "markdown",
      "metadata": {
        "id": "o8JZSs21a_5O"
      },
      "source": [
        "**SCALING THE FEATURES**"
      ]
    },
    {
      "cell_type": "code",
      "metadata": {
        "colab": {
          "base_uri": "https://localhost:8080/"
        },
        "id": "Jj9XD94OaVyS",
        "outputId": "013ce8fd-a2a0-4ccf-d411-7ee8b882bc5b"
      },
      "source": [
        "## scaling the data between 0-1 (using MIN-MAX Scalling)\n",
        "\n",
        "transpose_x = np.transpose(x)\n",
        "tr_x_row, tr_x_col = transpose_x.shape\n",
        "for i in range(tr_x_row):\n",
        "  # finding max and min value for a particular column of originar dataset (row for the transposed matrix)\n",
        "  max_val = np.max(transpose_x[i])   \n",
        "  min_val = np.min(transpose_x[i])\n",
        "  for j in range(transpose_x[i].shape[0]):\n",
        "    transpose_x[i,j] = (transpose_x[i,j]-min_val)/(max_val - min_val) # MIN-MAX SCALLING\n",
        "\n",
        "#x transposed again to get the dimension of original dataset\n",
        "x = np.transpose(transpose_x)  \n",
        "\n",
        "\n",
        "print(x)"
      ],
      "execution_count": null,
      "outputs": [
        {
          "output_type": "stream",
          "text": [
            "[[0.22222222 0.625      0.06779661 0.04166667]\n",
            " [0.16666667 0.41666667 0.06779661 0.04166667]\n",
            " [0.11111111 0.5        0.05084746 0.04166667]\n",
            " [0.08333333 0.45833333 0.08474576 0.04166667]\n",
            " [0.19444444 0.66666667 0.06779661 0.04166667]\n",
            " [0.30555556 0.79166667 0.11864407 0.125     ]\n",
            " [0.08333333 0.58333333 0.06779661 0.08333333]\n",
            " [0.19444444 0.58333333 0.08474576 0.04166667]\n",
            " [0.02777778 0.375      0.06779661 0.04166667]\n",
            " [0.16666667 0.45833333 0.08474576 0.        ]\n",
            " [0.30555556 0.70833333 0.08474576 0.04166667]\n",
            " [0.13888889 0.58333333 0.10169492 0.04166667]\n",
            " [0.13888889 0.41666667 0.06779661 0.        ]\n",
            " [0.         0.41666667 0.01694915 0.        ]\n",
            " [0.41666667 0.83333333 0.03389831 0.04166667]\n",
            " [0.38888889 1.         0.08474576 0.125     ]\n",
            " [0.30555556 0.79166667 0.05084746 0.125     ]\n",
            " [0.22222222 0.625      0.06779661 0.08333333]\n",
            " [0.38888889 0.75       0.11864407 0.08333333]\n",
            " [0.22222222 0.75       0.08474576 0.08333333]\n",
            " [0.30555556 0.58333333 0.11864407 0.04166667]\n",
            " [0.22222222 0.70833333 0.08474576 0.125     ]\n",
            " [0.08333333 0.66666667 0.         0.04166667]\n",
            " [0.22222222 0.54166667 0.11864407 0.16666667]\n",
            " [0.13888889 0.58333333 0.15254237 0.04166667]\n",
            " [0.19444444 0.41666667 0.10169492 0.04166667]\n",
            " [0.19444444 0.58333333 0.10169492 0.125     ]\n",
            " [0.25       0.625      0.08474576 0.04166667]\n",
            " [0.25       0.58333333 0.06779661 0.04166667]\n",
            " [0.11111111 0.5        0.10169492 0.04166667]\n",
            " [0.13888889 0.45833333 0.10169492 0.04166667]\n",
            " [0.30555556 0.58333333 0.08474576 0.125     ]\n",
            " [0.25       0.875      0.08474576 0.        ]\n",
            " [0.33333333 0.91666667 0.06779661 0.04166667]\n",
            " [0.16666667 0.45833333 0.08474576 0.04166667]\n",
            " [0.19444444 0.5        0.03389831 0.04166667]\n",
            " [0.33333333 0.625      0.05084746 0.04166667]\n",
            " [0.16666667 0.66666667 0.06779661 0.        ]\n",
            " [0.02777778 0.41666667 0.05084746 0.04166667]\n",
            " [0.22222222 0.58333333 0.08474576 0.04166667]\n",
            " [0.19444444 0.625      0.05084746 0.08333333]\n",
            " [0.05555556 0.125      0.05084746 0.08333333]\n",
            " [0.02777778 0.5        0.05084746 0.04166667]\n",
            " [0.19444444 0.625      0.10169492 0.20833333]\n",
            " [0.22222222 0.75       0.15254237 0.125     ]\n",
            " [0.13888889 0.41666667 0.06779661 0.08333333]\n",
            " [0.22222222 0.75       0.10169492 0.04166667]\n",
            " [0.08333333 0.5        0.06779661 0.04166667]\n",
            " [0.27777778 0.70833333 0.08474576 0.04166667]\n",
            " [0.19444444 0.54166667 0.06779661 0.04166667]\n",
            " [0.75       0.5        0.62711864 0.54166667]\n",
            " [0.58333333 0.5        0.59322034 0.58333333]\n",
            " [0.72222222 0.45833333 0.66101695 0.58333333]\n",
            " [0.33333333 0.125      0.50847458 0.5       ]\n",
            " [0.61111111 0.33333333 0.61016949 0.58333333]\n",
            " [0.38888889 0.33333333 0.59322034 0.5       ]\n",
            " [0.55555556 0.54166667 0.62711864 0.625     ]\n",
            " [0.16666667 0.16666667 0.38983051 0.375     ]\n",
            " [0.63888889 0.375      0.61016949 0.5       ]\n",
            " [0.25       0.29166667 0.49152542 0.54166667]\n",
            " [0.19444444 0.         0.42372881 0.375     ]\n",
            " [0.44444444 0.41666667 0.54237288 0.58333333]\n",
            " [0.47222222 0.08333333 0.50847458 0.375     ]\n",
            " [0.5        0.375      0.62711864 0.54166667]\n",
            " [0.36111111 0.375      0.44067797 0.5       ]\n",
            " [0.66666667 0.45833333 0.57627119 0.54166667]\n",
            " [0.36111111 0.41666667 0.59322034 0.58333333]\n",
            " [0.41666667 0.29166667 0.52542373 0.375     ]\n",
            " [0.52777778 0.08333333 0.59322034 0.58333333]\n",
            " [0.36111111 0.20833333 0.49152542 0.41666667]\n",
            " [0.44444444 0.5        0.6440678  0.70833333]\n",
            " [0.5        0.33333333 0.50847458 0.5       ]\n",
            " [0.55555556 0.20833333 0.66101695 0.58333333]\n",
            " [0.5        0.33333333 0.62711864 0.45833333]\n",
            " [0.58333333 0.375      0.55932203 0.5       ]\n",
            " [0.63888889 0.41666667 0.57627119 0.54166667]\n",
            " [0.69444444 0.33333333 0.6440678  0.54166667]\n",
            " [0.66666667 0.41666667 0.6779661  0.66666667]\n",
            " [0.47222222 0.375      0.59322034 0.58333333]\n",
            " [0.38888889 0.25       0.42372881 0.375     ]\n",
            " [0.33333333 0.16666667 0.47457627 0.41666667]\n",
            " [0.33333333 0.16666667 0.45762712 0.375     ]\n",
            " [0.41666667 0.29166667 0.49152542 0.45833333]\n",
            " [0.47222222 0.29166667 0.69491525 0.625     ]\n",
            " [0.30555556 0.41666667 0.59322034 0.58333333]\n",
            " [0.47222222 0.58333333 0.59322034 0.625     ]\n",
            " [0.66666667 0.45833333 0.62711864 0.58333333]\n",
            " [0.55555556 0.125      0.57627119 0.5       ]\n",
            " [0.36111111 0.41666667 0.52542373 0.5       ]\n",
            " [0.33333333 0.20833333 0.50847458 0.5       ]\n",
            " [0.33333333 0.25       0.57627119 0.45833333]\n",
            " [0.5        0.41666667 0.61016949 0.54166667]\n",
            " [0.41666667 0.25       0.50847458 0.45833333]\n",
            " [0.19444444 0.125      0.38983051 0.375     ]\n",
            " [0.36111111 0.29166667 0.54237288 0.5       ]\n",
            " [0.38888889 0.41666667 0.54237288 0.45833333]\n",
            " [0.38888889 0.375      0.54237288 0.5       ]\n",
            " [0.52777778 0.375      0.55932203 0.5       ]\n",
            " [0.22222222 0.20833333 0.33898305 0.41666667]\n",
            " [0.38888889 0.33333333 0.52542373 0.5       ]\n",
            " [0.55555556 0.54166667 0.84745763 1.        ]\n",
            " [0.41666667 0.29166667 0.69491525 0.75      ]\n",
            " [0.77777778 0.41666667 0.83050847 0.83333333]\n",
            " [0.55555556 0.375      0.77966102 0.70833333]\n",
            " [0.61111111 0.41666667 0.81355932 0.875     ]\n",
            " [0.91666667 0.41666667 0.94915254 0.83333333]\n",
            " [0.16666667 0.20833333 0.59322034 0.66666667]\n",
            " [0.83333333 0.375      0.89830508 0.70833333]\n",
            " [0.66666667 0.20833333 0.81355932 0.70833333]\n",
            " [0.80555556 0.66666667 0.86440678 1.        ]\n",
            " [0.61111111 0.5        0.69491525 0.79166667]\n",
            " [0.58333333 0.29166667 0.72881356 0.75      ]\n",
            " [0.69444444 0.41666667 0.76271186 0.83333333]\n",
            " [0.38888889 0.20833333 0.6779661  0.79166667]\n",
            " [0.41666667 0.33333333 0.69491525 0.95833333]\n",
            " [0.58333333 0.5        0.72881356 0.91666667]\n",
            " [0.61111111 0.41666667 0.76271186 0.70833333]\n",
            " [0.94444444 0.75       0.96610169 0.875     ]\n",
            " [0.94444444 0.25       1.         0.91666667]\n",
            " [0.47222222 0.08333333 0.6779661  0.58333333]\n",
            " [0.72222222 0.5        0.79661017 0.91666667]\n",
            " [0.36111111 0.33333333 0.66101695 0.79166667]\n",
            " [0.94444444 0.33333333 0.96610169 0.79166667]\n",
            " [0.55555556 0.29166667 0.66101695 0.70833333]\n",
            " [0.66666667 0.54166667 0.79661017 0.83333333]\n",
            " [0.80555556 0.5        0.84745763 0.70833333]\n",
            " [0.52777778 0.33333333 0.6440678  0.70833333]\n",
            " [0.5        0.41666667 0.66101695 0.70833333]\n",
            " [0.58333333 0.33333333 0.77966102 0.83333333]\n",
            " [0.80555556 0.41666667 0.81355932 0.625     ]\n",
            " [0.86111111 0.33333333 0.86440678 0.75      ]\n",
            " [1.         0.75       0.91525424 0.79166667]\n",
            " [0.58333333 0.33333333 0.77966102 0.875     ]\n",
            " [0.55555556 0.33333333 0.69491525 0.58333333]\n",
            " [0.5        0.25       0.77966102 0.54166667]\n",
            " [0.94444444 0.41666667 0.86440678 0.91666667]\n",
            " [0.55555556 0.58333333 0.77966102 0.95833333]\n",
            " [0.58333333 0.45833333 0.76271186 0.70833333]\n",
            " [0.47222222 0.41666667 0.6440678  0.70833333]\n",
            " [0.72222222 0.45833333 0.74576271 0.83333333]\n",
            " [0.66666667 0.45833333 0.77966102 0.95833333]\n",
            " [0.72222222 0.45833333 0.69491525 0.91666667]\n",
            " [0.41666667 0.29166667 0.69491525 0.75      ]\n",
            " [0.69444444 0.5        0.83050847 0.91666667]\n",
            " [0.66666667 0.54166667 0.79661017 1.        ]\n",
            " [0.66666667 0.41666667 0.71186441 0.91666667]\n",
            " [0.55555556 0.20833333 0.6779661  0.75      ]\n",
            " [0.61111111 0.41666667 0.71186441 0.79166667]\n",
            " [0.52777778 0.58333333 0.74576271 0.91666667]\n",
            " [0.44444444 0.41666667 0.69491525 0.70833333]]\n"
          ],
          "name": "stdout"
        }
      ]
    },
    {
      "cell_type": "markdown",
      "metadata": {
        "id": "SDEOo0jPbJWZ"
      },
      "source": [
        "**SPLITTING THE DATASET INTO TRAIN AND TEST**"
      ]
    },
    {
      "cell_type": "code",
      "metadata": {
        "id": "Gqb4WrdPd1te"
      },
      "source": [
        "## splitting the actuall dataset into x_train, x_test , y_train and y_test\n",
        "## splitting  80 : 20 ratio by generating random number\n",
        "\n",
        "import random\n",
        "\n",
        "row, col = x.shape\n",
        "row_count_for_train = round(row*0.8)   # 80% selected as train data\n",
        "\n",
        "train_rows = []   #containing the indexes of rows considered for training\n",
        "test_rows = []    #containing the indexes of rows considered for testing \n",
        "\n",
        "while len(train_rows) < row_count_for_train:\n",
        "  random_num = random.randint(0, row-1)  # generating random number\n",
        "  if random_num not in train_rows:\n",
        "    train_rows.append(random_num)\n",
        "\n",
        "for i in range(row):\n",
        "  if i not in train_rows:\n",
        "    test_rows.append(i)\n",
        "random.shuffle(test_rows)  #shuffling because our test_rows was containing value in sorted order    \n",
        "\n",
        "x_train = x[train_rows,]\n",
        "y_train = y[train_rows,]\n",
        "\n",
        "x_test = x[test_rows,]\n",
        "y_test = y[test_rows,]\n"
      ],
      "execution_count": null,
      "outputs": []
    },
    {
      "cell_type": "markdown",
      "metadata": {
        "id": "fHqqBsj3bQEu"
      },
      "source": [
        "**FIT THE MODEL AND PREDICT**"
      ]
    },
    {
      "cell_type": "code",
      "metadata": {
        "id": "GbH1rDLf8j3W"
      },
      "source": [
        "## fit and predict from the model\n",
        "import math\n",
        " \n",
        "#finding maximum occured element from the list l\n",
        "def classify(l):\n",
        "  max_time_occured =  max(set(l), key = l.count)  # returns the maximum occured element from the list\n",
        "  return max_time_occured\n",
        " \n",
        " \n",
        "#this function takes all pair distance and pick k nearest  possible_prediction from them and pass to classify function\n",
        "def predict(dist, x_train, y_train, k):\n",
        "  sorted_dist = dist.copy()\n",
        "  sorted_dist.sort() \n",
        "  possible_prediction_list = [] #possible classification for a test sample, containing k values, for k-NN \n",
        " \n",
        "  for i in range(k): #first k value of the sorted list be k nearest point\n",
        "    index = dist.index(sorted_dist[i])\n",
        "    possible_prediction_list.append(y_train[index])\n",
        "  final_predicted_value = classify(possible_prediction_list) ##calling classify function which classify the test sample by finding most occured outcome from nearest k neighbours outcome\n",
        "  return final_predicted_value\n",
        " \n",
        " \n",
        "## eucledian distance\n",
        "def eucledian_distance(row_x, row_y):\n",
        "  return  np.sqrt(sum((row_x - row_y)**2))\n",
        "\n",
        "## manhatten distance\n",
        "def manhatten_distance(row_x, row_y):\n",
        "  count = 0\n",
        "  for i in range(row_x.shape[0]):\n",
        "    if row_x[i] != row_y[i]:\n",
        "      count += 1\n",
        "  return count    \n",
        "\n",
        "\n",
        "def fit_and_predict(x_train, y_train, x_test, k):\n",
        "  y_pred = []  #containing the abosultely final result value (classification value for each test data sample)\n",
        "  for this_test_row in range(len(x_test)): # iterate for each test row\n",
        "    dist = []  #containing distance of each row in train data set from the test data row\n",
        "    for i in range(x_train.shape[0]): # iterate over each row in train data  \n",
        "      dist.append(eucledian_distance(x_train[i] , x_test[this_test_row] ))    # eucledian distance   \n",
        "      # dist.append(manhatten_distance (x_train[i] , y_train[this_test_row] ))     # manhatten distance\n",
        "    predicted_value = predict(dist, x_train, y_train, k) #calling predict function with the list containing all pairs distance to find nearest and classify result from them\n",
        "    y_pred.append(predicted_value)\n",
        "  y_pred = np.array(y_pred)\n",
        "  return y_pred \n",
        " \n",
        "\n",
        "\n",
        "# def fit_and_predict(x_train, x_test, y_train, k):\n",
        "#   y_pred = []  #containing the abosultely final result value (classification value for each test data sample)\n",
        "#   for this_test_row in range(len(y_train)): # iterate for each test row\n",
        "#     dist = []  #containing distance of each row in train data set from the test data row\n",
        "#     for i in range(x_train.shape[0]): # iterate over each row in train data \n",
        "#       total = 0\n",
        "#       for j in range(x_train.shape[1]): #iterate over each features one by one\n",
        "#         total += (x_train[i, j] - y_train[this_test_row,j])**2   #eucledian distance formula sqrt(sum((xi-yi)^2)) # i denotes ith column\n",
        "#       dist.append(math.sqrt(total))  \n",
        "#     predicted_value = predict(dist, x_train, x_test, k) #calling predict function with the list containing all pairs distance to find nearest and classify result from them\n",
        "#     y_pred.append(predicted_value)\n",
        "#   y_pred = np.array(y_pred)\n",
        "#   return y_pred\n",
        " \n",
        "## result for single k value\n",
        "# k = int(input(\"enter the value of k  (number of nearest members to consider), for K-NN : \"))\n",
        "# y_predicted = fit_and_predict(x_train, x_test, y_train, k)"
      ],
      "execution_count": null,
      "outputs": []
    },
    {
      "cell_type": "markdown",
      "metadata": {
        "id": "Rfu5U6s_beF5"
      },
      "source": [
        "**SEE RESULT OF THE K-NN MODEL**\n",
        "\n",
        "FOR EXAMPLE **input should be 3** if you want to see the **result only for K value 3**\n",
        " \n",
        "to see result **for multiple k value input should be two comma separated integer**  **EXAMPLE:** **1,5** will show the result of k value **from 1 to 5 separately**"
      ]
    },
    {
      "cell_type": "code",
      "metadata": {
        "colab": {
          "base_uri": "https://localhost:8080/"
        },
        "id": "-3F8CGfSDw73",
        "outputId": "bd6c99ca-3ee2-43b6-ea3d-9b43b8da35bd"
      },
      "source": [
        "## see result for single k value or multiple k value\n",
        "\n",
        "from sklearn.metrics import confusion_matrix\n",
        "from sklearn.metrics import classification_report\n",
        "\n",
        "#taking input of k value from the user\n",
        "k_value = input(\"enter single value of k or a range of k(comma separated) : \").split(',')\n",
        "lower = k_value[0]\n",
        "if len(k_value) == 1:\n",
        "  upper = k_value[0]\n",
        "else:\n",
        "  upper = k_value[1]\n",
        "lower,upper = int(lower), int(upper)  \n",
        "\n",
        "for k in range(lower,upper+1):   # iterate over different k value if user provides a range of k (lower and upper is same in case user provides one single value as input)\n",
        "  y_predicted = fit_and_predict(x_train, y_train, x_test, k)  # call for prediction for a single k value\n",
        "  matrix = confusion_matrix(y_test, y_predicted)\n",
        "  diagonal_sum = 0\n",
        "  total_sum = 0\n",
        "\n",
        "  #calculating diagonal sum and total sum from confusion matrix\n",
        "  for i in range(matrix.shape[0]):\n",
        "    for j in range(matrix.shape[1]):\n",
        "      if i == j:\n",
        "        diagonal_sum += matrix[i,j]\n",
        "      total_sum += matrix[i,j]\n",
        "\n",
        "  print(f\"\\nvalue of k = {k} \\n Accuracy = {(diagonal_sum/total_sum)*100}%\")   # accuracy coressponding to k value\n",
        "  print(f\"\\nconfusuin matrix :\\n {matrix}\\n\\n\")\n",
        "  from sklearn.metrics import classification_report\n",
        "  print(f\"{classification_report(y_test, y_predicted)}\" )\n",
        "  print(\"__________________________________________________________________________\") \n"
      ],
      "execution_count": null,
      "outputs": [
        {
          "output_type": "stream",
          "text": [
            "enter single value of k or a range of k(comma separated) : 1,9\n",
            "\n",
            "value of k = 1 \n",
            " Accuracy = 93.85964912280701%\n",
            "\n",
            "confusuin matrix :\n",
            " [[71  4]\n",
            " [ 3 36]]\n",
            "\n",
            "\n",
            "              precision    recall  f1-score   support\n",
            "\n",
            "           B       0.96      0.95      0.95        75\n",
            "           M       0.90      0.92      0.91        39\n",
            "\n",
            "    accuracy                           0.94       114\n",
            "   macro avg       0.93      0.93      0.93       114\n",
            "weighted avg       0.94      0.94      0.94       114\n",
            "\n",
            "__________________________________________________________________________\n",
            "\n",
            "value of k = 2 \n",
            " Accuracy = 97.36842105263158%\n",
            "\n",
            "confusuin matrix :\n",
            " [[75  0]\n",
            " [ 3 36]]\n",
            "\n",
            "\n",
            "              precision    recall  f1-score   support\n",
            "\n",
            "           B       0.96      1.00      0.98        75\n",
            "           M       1.00      0.92      0.96        39\n",
            "\n",
            "    accuracy                           0.97       114\n",
            "   macro avg       0.98      0.96      0.97       114\n",
            "weighted avg       0.97      0.97      0.97       114\n",
            "\n",
            "__________________________________________________________________________\n",
            "\n",
            "value of k = 3 \n",
            " Accuracy = 96.49122807017544%\n",
            "\n",
            "confusuin matrix :\n",
            " [[74  1]\n",
            " [ 3 36]]\n",
            "\n",
            "\n",
            "              precision    recall  f1-score   support\n",
            "\n",
            "           B       0.96      0.99      0.97        75\n",
            "           M       0.97      0.92      0.95        39\n",
            "\n",
            "    accuracy                           0.96       114\n",
            "   macro avg       0.97      0.95      0.96       114\n",
            "weighted avg       0.97      0.96      0.96       114\n",
            "\n",
            "__________________________________________________________________________\n",
            "\n",
            "value of k = 4 \n",
            " Accuracy = 96.49122807017544%\n",
            "\n",
            "confusuin matrix :\n",
            " [[74  1]\n",
            " [ 3 36]]\n",
            "\n",
            "\n",
            "              precision    recall  f1-score   support\n",
            "\n",
            "           B       0.96      0.99      0.97        75\n",
            "           M       0.97      0.92      0.95        39\n",
            "\n",
            "    accuracy                           0.96       114\n",
            "   macro avg       0.97      0.95      0.96       114\n",
            "weighted avg       0.97      0.96      0.96       114\n",
            "\n",
            "__________________________________________________________________________\n",
            "\n",
            "value of k = 5 \n",
            " Accuracy = 95.6140350877193%\n",
            "\n",
            "confusuin matrix :\n",
            " [[73  2]\n",
            " [ 3 36]]\n",
            "\n",
            "\n",
            "              precision    recall  f1-score   support\n",
            "\n",
            "           B       0.96      0.97      0.97        75\n",
            "           M       0.95      0.92      0.94        39\n",
            "\n",
            "    accuracy                           0.96       114\n",
            "   macro avg       0.95      0.95      0.95       114\n",
            "weighted avg       0.96      0.96      0.96       114\n",
            "\n",
            "__________________________________________________________________________\n",
            "\n",
            "value of k = 6 \n",
            " Accuracy = 96.49122807017544%\n",
            "\n",
            "confusuin matrix :\n",
            " [[74  1]\n",
            " [ 3 36]]\n",
            "\n",
            "\n",
            "              precision    recall  f1-score   support\n",
            "\n",
            "           B       0.96      0.99      0.97        75\n",
            "           M       0.97      0.92      0.95        39\n",
            "\n",
            "    accuracy                           0.96       114\n",
            "   macro avg       0.97      0.95      0.96       114\n",
            "weighted avg       0.97      0.96      0.96       114\n",
            "\n",
            "__________________________________________________________________________\n",
            "\n",
            "value of k = 7 \n",
            " Accuracy = 95.6140350877193%\n",
            "\n",
            "confusuin matrix :\n",
            " [[73  2]\n",
            " [ 3 36]]\n",
            "\n",
            "\n",
            "              precision    recall  f1-score   support\n",
            "\n",
            "           B       0.96      0.97      0.97        75\n",
            "           M       0.95      0.92      0.94        39\n",
            "\n",
            "    accuracy                           0.96       114\n",
            "   macro avg       0.95      0.95      0.95       114\n",
            "weighted avg       0.96      0.96      0.96       114\n",
            "\n",
            "__________________________________________________________________________\n",
            "\n",
            "value of k = 8 \n",
            " Accuracy = 95.6140350877193%\n",
            "\n",
            "confusuin matrix :\n",
            " [[73  2]\n",
            " [ 3 36]]\n",
            "\n",
            "\n",
            "              precision    recall  f1-score   support\n",
            "\n",
            "           B       0.96      0.97      0.97        75\n",
            "           M       0.95      0.92      0.94        39\n",
            "\n",
            "    accuracy                           0.96       114\n",
            "   macro avg       0.95      0.95      0.95       114\n",
            "weighted avg       0.96      0.96      0.96       114\n",
            "\n",
            "__________________________________________________________________________\n",
            "\n",
            "value of k = 9 \n",
            " Accuracy = 95.6140350877193%\n",
            "\n",
            "confusuin matrix :\n",
            " [[73  2]\n",
            " [ 3 36]]\n",
            "\n",
            "\n",
            "              precision    recall  f1-score   support\n",
            "\n",
            "           B       0.96      0.97      0.97        75\n",
            "           M       0.95      0.92      0.94        39\n",
            "\n",
            "    accuracy                           0.96       114\n",
            "   macro avg       0.95      0.95      0.95       114\n",
            "weighted avg       0.96      0.96      0.96       114\n",
            "\n",
            "__________________________________________________________________________\n"
          ],
          "name": "stdout"
        }
      ]
    },
    {
      "cell_type": "code",
      "metadata": {
        "id": "Hsvq-sfuAJ2m"
      },
      "source": [
        ""
      ],
      "execution_count": null,
      "outputs": []
    }
  ]
}