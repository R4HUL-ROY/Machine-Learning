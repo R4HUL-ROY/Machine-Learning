{
  "nbformat": 4,
  "nbformat_minor": 0,
  "metadata": {
    "colab": {
      "name": "Naive_Bayes.ipynb",
      "provenance": [],
      "mount_file_id": "1ESEiTUAJKItiGtFyEx0KrqdjC2AIJCj9",
      "authorship_tag": "ABX9TyOzYNcx9b1rwWBMGRt5Cnmm",
      "include_colab_link": true
    },
    "kernelspec": {
      "name": "python3",
      "display_name": "Python 3"
    },
    "language_info": {
      "name": "python"
    }
  },
  "cells": [
    {
      "cell_type": "markdown",
      "metadata": {
        "id": "view-in-github",
        "colab_type": "text"
      },
      "source": [
        "<a href=\"https://colab.research.google.com/github/R4HUL-ROY/Machine-Learning/blob/main/Naive_Bayes.ipynb\" target=\"_parent\"><img src=\"https://colab.research.google.com/assets/colab-badge.svg\" alt=\"Open In Colab\"/></a>"
      ]
    },
    {
      "cell_type": "markdown",
      "metadata": {
        "id": "1IL-pkOdclWY"
      },
      "source": [
        "**Assignment on Naive Bayes Classification**\n",
        "\n",
        "**NAME : RAHUL ROY**\n",
        "\n",
        "**MCA 2nd Sem**\n",
        "\n",
        "**ROLL - C91/MCA/202032**"
      ]
    },
    {
      "cell_type": "code",
      "metadata": {
        "id": "ma8FR5uH3WF9"
      },
      "source": [
        "import numpy as np\n",
        "import pandas as pd"
      ],
      "execution_count": null,
      "outputs": []
    },
    {
      "cell_type": "markdown",
      "metadata": {
        "id": "kmxk4oRh9ZXL"
      },
      "source": [
        "**CHOOSE AND READ DATASET**"
      ]
    },
    {
      "cell_type": "code",
      "metadata": {
        "id": "FcLY3WEB5rjj"
      },
      "source": [
        "## DATASET - 1\n",
        "## play_golf dataset\n",
        "\n",
        "data_dict = {\n",
        "    \"outlook\" : ['sunny', 'sunny', 'overcast', 'rainy', 'rainy', 'rainy', 'overcast', 'sunny', 'sunny', 'rainy', 'sunny', 'overcast', 'overcast', 'rainy'],\n",
        "    \"temperature\" : ['hot', 'hot', 'hot', 'mild', 'cool', 'cool', 'cool', 'mild', 'cool', 'mild', 'mild', 'mild', 'hot', 'mild'],\n",
        "    \"humidity\" : ['high', 'high', 'high', 'high', 'normal', 'normal', 'normal', 'high', 'normal', 'normal', 'normal', 'high', 'normal', 'high'],\n",
        "    \"windy\" : ['false', 'true', 'false', 'false', 'false', 'true', 'true', 'false', 'false', 'false', 'true', 'true', 'false', 'true']\n",
        "}\n",
        "\n",
        "result_dict = {\n",
        "    \"play\" : ['no', 'no', 'yes', 'yes', 'yes', 'no', 'yes', 'no', 'yes', 'yes', 'yes', 'yes', 'yes', 'no']\n",
        "}\n",
        "\n",
        "data_df = pd.DataFrame(data_dict)\n",
        "result_df = pd.DataFrame(result_dict)\n",
        "\n",
        "x = np.array(data_df)\n",
        "y = np.array(result_df)\n"
      ],
      "execution_count": null,
      "outputs": []
    },
    {
      "cell_type": "code",
      "metadata": {
        "colab": {
          "base_uri": "https://localhost:8080/"
        },
        "id": "88JE6PC9cwRr",
        "outputId": "acf16637-f35c-427a-876b-23c5d391b15f"
      },
      "source": [
        "## DATASET - 2\n",
        "# CAR DATASET    link : http://archive.ics.uci.edu/ml/datasets/Car+Evaluation\n",
        "\n",
        "\n",
        "df = pd.read_csv('/content/drive/My Drive/Colab Notebooks/car.csv')\n",
        "\n",
        "## renaming the column names\n",
        "col_name = ['buying', 'maint', 'doors' , 'persons', 'lug_boot', 'safety', 'class']\n",
        "df.columns = col_name\n",
        "\n",
        "data_df = df[['buying', 'maint', 'doors', 'persons', 'lug_boot', 'safety']]\n",
        "result_df = df['class']\n",
        "\n",
        "x = np.array(data_df)\n",
        "y = np.array(result_df)\n",
        "\n",
        "print(df.shape)\n",
        "print(x.shape)\n",
        "print(y.shape)"
      ],
      "execution_count": null,
      "outputs": [
        {
          "output_type": "stream",
          "text": [
            "(1727, 7)\n",
            "(1727, 6)\n",
            "(1727,)\n"
          ],
          "name": "stdout"
        }
      ]
    },
    {
      "cell_type": "code",
      "metadata": {
        "id": "3dQsUqG7smnd"
      },
      "source": [
        "# DATASET - 3\n",
        "# Link of this datset : http://archive.ics.uci.edu/ml/datasets/Tic-Tac-Toe+Endgame\n",
        "\n",
        "df = pd.read_csv('/content/drive/My Drive/Colab Notebooks/tic_tac_toe.csv')\n",
        "df.columns\n",
        "\n",
        "data_df = df[['x', 'x.1', 'x.2', 'x.3', 'o', 'o.1', 'x.4', 'o.2', 'o.3']]\n",
        "result_df = df['positive']\n",
        "\n",
        "# print(data_df)\n",
        "# print(result_df)\n",
        "\n",
        "x = np.array(data_df)\n",
        "y = np.array(result_df)"
      ],
      "execution_count": null,
      "outputs": []
    },
    {
      "cell_type": "code",
      "metadata": {
        "colab": {
          "base_uri": "https://localhost:8080/"
        },
        "id": "NAEN654uYApA",
        "outputId": "a74c5546-268d-4070-b1ee-557bf66f620c"
      },
      "source": [
        "# DATASET 4\n",
        "\n",
        "df = pd.read_csv('/content/drive/My Drive/Colab Notebooks/nursery.csv')\n",
        "\n",
        "col_name = ['parents', 'has_nurs', 'form', 'children', 'housing', 'finance', 'social', 'health', 'class']\n",
        "df.columns = col_name\n",
        "\n",
        "data_df = df[['parents', 'has_nurs', 'form', 'children', 'housing', 'finance', 'social', 'health']]\n",
        "result_df = df['class']\n",
        "\n",
        "x = np.array(data_df)\n",
        "y = np.array(result_df)\n",
        "\n",
        "# print(entire_df.shape)\n",
        "print(x.shape)\n",
        "print(y.shape)"
      ],
      "execution_count": null,
      "outputs": [
        {
          "output_type": "stream",
          "text": [
            "(12959, 8)\n",
            "(12959,)\n"
          ],
          "name": "stdout"
        }
      ]
    },
    {
      "cell_type": "code",
      "metadata": {
        "id": "mBEfpKfbQ1UL"
      },
      "source": [
        "## splitting the dataset into x_train, y_train , x_test and y_test\n",
        "\n",
        "def split_data(x , y):\n",
        "  import random\n",
        "\n",
        "  row, col = x.shape\n",
        "  row_count_for_train = round(row*0.8)   # 80% selected as train data\n",
        "\n",
        "  train_rows = []   #containing the indexes of rows considered for training\n",
        "  test_rows = []    #containing the indexes of rows considered for testing \n",
        "\n",
        "  while len(train_rows) < row_count_for_train:\n",
        "    random_num = random.randint(0, row-1)  # generating random number\n",
        "    if random_num not in train_rows:\n",
        "      train_rows.append(random_num)\n",
        "\n",
        "  for i in range(row):\n",
        "    if i not in train_rows:\n",
        "      test_rows.append(i)\n",
        "  random.shuffle(test_rows)  #shuffling because our test_rows was containing value in sorted order    \n",
        "\n",
        "  x_train = x[train_rows,]\n",
        "  y_train = y[train_rows,]\n",
        "\n",
        "  x_test = x[test_rows,]\n",
        "  y_test = y[test_rows,]\n",
        "\n",
        "  return x_train, y_train, x_test, y_test\n",
        "  "
      ],
      "execution_count": null,
      "outputs": []
    },
    {
      "cell_type": "code",
      "metadata": {
        "id": "pdvhiRUYE6cX"
      },
      "source": [
        "\n",
        "\n",
        "##helper function for posterior probability\n",
        "def prob(x_train, y_train, col_index , feature , ci):  ## feature is the catagory for that feature ## ci is label\n",
        "  count =0\n",
        "  for i in range(x_train.shape[0]):\n",
        "    if x_train[i][col_index] == feature and y_train[i] == ci:   ## if train row match with catagory of test row and outcome also same as asking label,  increase count by 1\n",
        "      count+=1\n",
        "  return count    ## returns number of rows that has same catagory and same outcome\n",
        "\n",
        "\n",
        "#calculate posterior probability for all ci for a single test_row and return posterior probability dictionary {label-1 : posterior probability , label-2 : ..... }\n",
        "def calculate_likelyhood(x_train, y_train, frame , this_test_row):  # likelyhood is the p(x|H) part   (posterior_prob = likelyhood * prior_prob / evidence )\n",
        "  likelyhood_dict = {}\n",
        "  for ci, val in frame.items():\n",
        "    res = 1\n",
        "    for i in range(len(this_test_row)) :\n",
        "      res = res* ( prob(x_train , y_train,  i, this_test_row[i], ci)/val )   ## multiplying individual probability  PI(k=1 upto n) p(Xk | ci) X is test row, ci is label\n",
        "    likelyhood_dict[ci] = res\n",
        "  return likelyhood_dict    ## returning posterior probability dictionary for where key is a class label and value is the corresponding posterior probability\n",
        "\n",
        "\n",
        "def find_posterior_prob_each_label(frame,prior_dict, x_train, y_train, this_test_row):\n",
        "  likelyhood_dict = calculate_likelyhood(x_train, y_train, frame, this_test_row)  \n",
        "  final_pred_for_each_label = {}\n",
        "  for ci, val in frame.items(): # iterate over each label\n",
        "    final_pred_for_each_label[ci] = likelyhood_dict[ci] * prior_dict[ci]    ## posterior_prob = likelyhood * prior_prob   P(Ci | X) = P(X | Ci) * p(Ci)\n",
        "  return final_pred_for_each_label  ## returns final prediction for each label, from which the label with maximum probability is our classification label for this test row\n",
        "\n",
        "\n",
        "'''helper method for fit_model'''\n",
        "#calculate prior probability (called inside fit_model method)\n",
        "def calculate_prior_prob(frame , row_for_train):\n",
        "  prior_prob_dict = {}\n",
        "  for ci in frame.keys():\n",
        "    prior_prob_dict[ci] = frame[ci]/row_for_train     # calculate no_of_row_with_a_label_present (label is \"yes\"/\"no\"/..) / total_no_of_row_in_train_dataset \n",
        "  return prior_prob_dict  ## contains all the prior probability for each label\n",
        "\n",
        "## fit the model (called inside fit_and_predict function)\n",
        "def fit_model(x_train, y_train):\n",
        "  row_for_train = len(x_train)   #80% of the original dataset\n",
        "  label , freq = np.unique(y_train, return_counts = True)\n",
        "  frame = dict(zip(label,freq))    ## zip all the label along with thier frequency on x_test data\n",
        "  prior_dict = calculate_prior_prob(frame , row_for_train)\n",
        "  return frame , prior_dict    ## frame contains label and its frequency in train dataset\n",
        "\n",
        "\n",
        "def fit_and_predict(x_train, y_train , x_test):\n",
        "  frame, prior_dict =  fit_model(x_train, y_train)   ## fitting the data into model by calling fit function\n",
        "  y_pred = []\n",
        "  for this_test_row in x_test:  #iterate over each test data sample\n",
        "    posterior_pred_dict = find_posterior_prob_each_label(frame, prior_dict, x_train, y_train, this_test_row)## this returns posterior probability for each label, for a particular test data sample\n",
        "    # print(posterior_pred_dict)\n",
        "    key_with_max_prob = max(posterior_pred_dict, key=posterior_pred_dict.get) ## this find the label with max posterior probability among all the labels probability\n",
        "    y_pred.append(key_with_max_prob)\n",
        "  return y_pred   # returns the predicted label list, for each test data sample\n"
      ],
      "execution_count": null,
      "outputs": []
    },
    {
      "cell_type": "markdown",
      "metadata": {
        "id": "R3uoxPxyeM1K"
      },
      "source": [
        "**Main Module for function calling**"
      ]
    },
    {
      "cell_type": "code",
      "metadata": {
        "colab": {
          "base_uri": "https://localhost:8080/"
        },
        "id": "FW2stKK3MBRo",
        "outputId": "4d8b7a2d-118a-4997-a3b0-594ec7beb63f"
      },
      "source": [
        "\"\"\" main module calling split_data & fit_and_predict function \"\"\"\n",
        "\n",
        "## splitting data\n",
        "x_train, y_train , x_test, y_test = split_data(x , y)\n",
        "\n",
        "## Fit and predicting the result fot test dataset\n",
        "y_predicted = fit_and_predict(x_train, y_train, x_test)  ## make final prediction \n",
        "\n",
        "print(y_predicted)    "
      ],
      "execution_count": null,
      "outputs": [
        {
          "output_type": "stream",
          "text": [
            "['priority', 'priority', 'priority', 'not_recom', 'spec_prior', 'spec_prior', 'not_recom', 'spec_prior', 'not_recom', 'not_recom', 'spec_prior', 'priority', 'not_recom', 'spec_prior', 'not_recom', 'priority', 'not_recom', 'priority', 'spec_prior', 'not_recom', 'priority', 'spec_prior', 'spec_prior', 'not_recom', 'spec_prior', 'spec_prior', 'not_recom', 'spec_prior', 'not_recom', 'priority', 'not_recom', 'not_recom', 'spec_prior', 'spec_prior', 'priority', 'priority', 'priority', 'priority', 'priority', 'not_recom', 'spec_prior', 'priority', 'priority', 'priority', 'spec_prior', 'spec_prior', 'not_recom', 'priority', 'spec_prior', 'priority', 'priority', 'not_recom', 'not_recom', 'not_recom', 'not_recom', 'priority', 'not_recom', 'priority', 'priority', 'not_recom', 'not_recom', 'not_recom', 'priority', 'priority', 'not_recom', 'not_recom', 'spec_prior', 'priority', 'spec_prior', 'spec_prior', 'spec_prior', 'not_recom', 'not_recom', 'spec_prior', 'priority', 'not_recom', 'not_recom', 'not_recom', 'not_recom', 'priority', 'spec_prior', 'not_recom', 'priority', 'not_recom', 'not_recom', 'priority', 'priority', 'not_recom', 'not_recom', 'not_recom', 'not_recom', 'not_recom', 'spec_prior', 'priority', 'priority', 'spec_prior', 'spec_prior', 'priority', 'spec_prior', 'priority', 'spec_prior', 'priority', 'priority', 'not_recom', 'spec_prior', 'priority', 'spec_prior', 'spec_prior', 'priority', 'spec_prior', 'priority', 'priority', 'priority', 'priority', 'not_recom', 'priority', 'priority', 'priority', 'not_recom', 'not_recom', 'priority', 'priority', 'not_recom', 'priority', 'not_recom', 'not_recom', 'spec_prior', 'priority', 'priority', 'not_recom', 'priority', 'not_recom', 'not_recom', 'not_recom', 'not_recom', 'spec_prior', 'spec_prior', 'spec_prior', 'spec_prior', 'priority', 'spec_prior', 'priority', 'priority', 'spec_prior', 'spec_prior', 'not_recom', 'not_recom', 'spec_prior', 'not_recom', 'not_recom', 'not_recom', 'priority', 'priority', 'spec_prior', 'not_recom', 'not_recom', 'not_recom', 'priority', 'spec_prior', 'spec_prior', 'not_recom', 'spec_prior', 'spec_prior', 'priority', 'not_recom', 'priority', 'priority', 'not_recom', 'not_recom', 'spec_prior', 'priority', 'not_recom', 'priority', 'priority', 'not_recom', 'spec_prior', 'not_recom', 'not_recom', 'spec_prior', 'priority', 'not_recom', 'priority', 'not_recom', 'spec_prior', 'priority', 'priority', 'priority', 'priority', 'not_recom', 'spec_prior', 'spec_prior', 'spec_prior', 'spec_prior', 'spec_prior', 'not_recom', 'priority', 'spec_prior', 'priority', 'priority', 'spec_prior', 'priority', 'spec_prior', 'priority', 'spec_prior', 'priority', 'not_recom', 'priority', 'spec_prior', 'spec_prior', 'spec_prior', 'not_recom', 'spec_prior', 'spec_prior', 'priority', 'spec_prior', 'spec_prior', 'not_recom', 'priority', 'spec_prior', 'not_recom', 'priority', 'priority', 'priority', 'priority', 'not_recom', 'priority', 'not_recom', 'spec_prior', 'not_recom', 'not_recom', 'priority', 'not_recom', 'priority', 'not_recom', 'not_recom', 'not_recom', 'spec_prior', 'priority', 'not_recom', 'priority', 'spec_prior', 'priority', 'spec_prior', 'priority', 'not_recom', 'not_recom', 'priority', 'priority', 'priority', 'spec_prior', 'spec_prior', 'priority', 'priority', 'not_recom', 'priority', 'priority', 'not_recom', 'spec_prior', 'spec_prior', 'spec_prior', 'priority', 'priority', 'priority', 'not_recom', 'priority', 'priority', 'spec_prior', 'not_recom', 'spec_prior', 'spec_prior', 'spec_prior', 'not_recom', 'not_recom', 'priority', 'not_recom', 'spec_prior', 'priority', 'spec_prior', 'priority', 'not_recom', 'not_recom', 'not_recom', 'priority', 'priority', 'spec_prior', 'not_recom', 'priority', 'spec_prior', 'not_recom', 'spec_prior', 'priority', 'not_recom', 'not_recom', 'priority', 'priority', 'spec_prior', 'priority', 'priority', 'spec_prior', 'not_recom', 'spec_prior', 'not_recom', 'spec_prior', 'spec_prior', 'spec_prior', 'priority', 'not_recom', 'not_recom', 'priority', 'spec_prior', 'not_recom', 'not_recom', 'spec_prior', 'priority', 'not_recom', 'not_recom', 'not_recom', 'spec_prior', 'not_recom', 'priority', 'spec_prior', 'priority', 'priority', 'spec_prior', 'spec_prior', 'not_recom', 'spec_prior', 'not_recom', 'spec_prior', 'not_recom', 'not_recom', 'priority', 'priority', 'spec_prior', 'priority', 'spec_prior', 'spec_prior', 'priority', 'spec_prior', 'not_recom', 'priority', 'priority', 'spec_prior', 'priority', 'spec_prior', 'spec_prior', 'not_recom', 'spec_prior', 'spec_prior', 'priority', 'priority', 'not_recom', 'not_recom', 'priority', 'spec_prior', 'spec_prior', 'priority', 'spec_prior', 'priority', 'not_recom', 'priority', 'priority', 'not_recom', 'not_recom', 'priority', 'priority', 'not_recom', 'not_recom', 'spec_prior', 'priority', 'not_recom', 'priority', 'priority', 'priority', 'not_recom', 'priority', 'not_recom', 'priority', 'priority', 'priority', 'spec_prior', 'not_recom', 'not_recom', 'priority', 'spec_prior', 'not_recom', 'priority', 'spec_prior', 'not_recom', 'priority', 'priority', 'not_recom', 'not_recom', 'not_recom', 'spec_prior', 'priority', 'priority', 'priority', 'not_recom', 'priority', 'not_recom', 'not_recom', 'spec_prior', 'not_recom', 'spec_prior', 'priority', 'spec_prior', 'spec_prior', 'not_recom', 'not_recom', 'spec_prior', 'not_recom', 'priority', 'spec_prior', 'not_recom', 'priority', 'spec_prior', 'not_recom', 'spec_prior', 'priority', 'spec_prior', 'not_recom', 'not_recom', 'not_recom', 'not_recom', 'priority', 'spec_prior', 'not_recom', 'spec_prior', 'not_recom', 'not_recom', 'priority', 'priority', 'not_recom', 'not_recom', 'spec_prior', 'not_recom', 'not_recom', 'spec_prior', 'priority', 'not_recom', 'priority', 'priority', 'not_recom', 'spec_prior', 'not_recom', 'spec_prior', 'spec_prior', 'spec_prior', 'not_recom', 'not_recom', 'priority', 'priority', 'spec_prior', 'not_recom', 'not_recom', 'spec_prior', 'priority', 'not_recom', 'spec_prior', 'not_recom', 'spec_prior', 'spec_prior', 'priority', 'not_recom', 'priority', 'priority', 'priority', 'not_recom', 'not_recom', 'priority', 'priority', 'not_recom', 'not_recom', 'not_recom', 'not_recom', 'not_recom', 'priority', 'spec_prior', 'not_recom', 'priority', 'priority', 'not_recom', 'spec_prior', 'not_recom', 'spec_prior', 'priority', 'priority', 'spec_prior', 'spec_prior', 'priority', 'priority', 'spec_prior', 'spec_prior', 'not_recom', 'not_recom', 'not_recom', 'priority', 'not_recom', 'spec_prior', 'priority', 'priority', 'not_recom', 'priority', 'not_recom', 'priority', 'spec_prior', 'spec_prior', 'spec_prior', 'spec_prior', 'not_recom', 'spec_prior', 'not_recom', 'not_recom', 'priority', 'spec_prior', 'not_recom', 'priority', 'priority', 'priority', 'priority', 'not_recom', 'not_recom', 'not_recom', 'priority', 'not_recom', 'spec_prior', 'spec_prior', 'priority', 'not_recom', 'priority', 'not_recom', 'spec_prior', 'priority', 'priority', 'spec_prior', 'priority', 'not_recom', 'priority', 'not_recom', 'spec_prior', 'not_recom', 'not_recom', 'spec_prior', 'not_recom', 'not_recom', 'spec_prior', 'spec_prior', 'not_recom', 'not_recom', 'priority', 'spec_prior', 'priority', 'spec_prior', 'priority', 'not_recom', 'priority', 'priority', 'not_recom', 'priority', 'priority', 'priority', 'not_recom', 'priority', 'priority', 'spec_prior', 'priority', 'spec_prior', 'not_recom', 'spec_prior', 'not_recom', 'priority', 'not_recom', 'spec_prior', 'spec_prior', 'not_recom', 'spec_prior', 'not_recom', 'not_recom', 'spec_prior', 'not_recom', 'spec_prior', 'not_recom', 'priority', 'spec_prior', 'priority', 'spec_prior', 'not_recom', 'priority', 'not_recom', 'spec_prior', 'spec_prior', 'spec_prior', 'priority', 'priority', 'not_recom', 'not_recom', 'not_recom', 'priority', 'spec_prior', 'priority', 'spec_prior', 'spec_prior', 'not_recom', 'not_recom', 'priority', 'spec_prior', 'priority', 'spec_prior', 'priority', 'priority', 'not_recom', 'not_recom', 'not_recom', 'priority', 'not_recom', 'priority', 'not_recom', 'not_recom', 'priority', 'not_recom', 'spec_prior', 'not_recom', 'not_recom', 'not_recom', 'not_recom', 'priority', 'not_recom', 'priority', 'spec_prior', 'not_recom', 'priority', 'not_recom', 'spec_prior', 'spec_prior', 'not_recom', 'priority', 'not_recom', 'not_recom', 'not_recom', 'priority', 'spec_prior', 'not_recom', 'spec_prior', 'priority', 'not_recom', 'priority', 'not_recom', 'priority', 'priority', 'not_recom', 'spec_prior', 'spec_prior', 'priority', 'spec_prior', 'spec_prior', 'not_recom', 'not_recom', 'spec_prior', 'spec_prior', 'priority', 'spec_prior', 'spec_prior', 'not_recom', 'priority', 'not_recom', 'priority', 'not_recom', 'spec_prior', 'priority', 'priority', 'not_recom', 'not_recom', 'not_recom', 'priority', 'not_recom', 'priority', 'priority', 'not_recom', 'spec_prior', 'not_recom', 'priority', 'not_recom', 'not_recom', 'spec_prior', 'priority', 'priority', 'priority', 'priority', 'priority', 'spec_prior', 'not_recom', 'spec_prior', 'spec_prior', 'priority', 'spec_prior', 'not_recom', 'priority', 'not_recom', 'priority', 'priority', 'spec_prior', 'spec_prior', 'not_recom', 'spec_prior', 'spec_prior', 'priority', 'not_recom', 'priority', 'priority', 'priority', 'not_recom', 'priority', 'not_recom', 'priority', 'priority', 'not_recom', 'spec_prior', 'priority', 'spec_prior', 'not_recom', 'not_recom', 'not_recom', 'spec_prior', 'spec_prior', 'spec_prior', 'spec_prior', 'not_recom', 'not_recom', 'priority', 'not_recom', 'not_recom', 'spec_prior', 'not_recom', 'priority', 'priority', 'not_recom', 'spec_prior', 'not_recom', 'spec_prior', 'priority', 'spec_prior', 'priority', 'spec_prior', 'priority', 'not_recom', 'spec_prior', 'priority', 'priority', 'spec_prior', 'not_recom', 'not_recom', 'not_recom', 'priority', 'priority', 'spec_prior', 'spec_prior', 'priority', 'priority', 'spec_prior', 'not_recom', 'not_recom', 'not_recom', 'spec_prior', 'priority', 'not_recom', 'priority', 'not_recom', 'spec_prior', 'not_recom', 'priority', 'priority', 'priority', 'priority', 'spec_prior', 'priority', 'not_recom', 'priority', 'priority', 'spec_prior', 'priority', 'not_recom', 'not_recom', 'priority', 'spec_prior', 'not_recom', 'not_recom', 'not_recom', 'not_recom', 'not_recom', 'priority', 'spec_prior', 'spec_prior', 'spec_prior', 'not_recom', 'not_recom', 'priority', 'spec_prior', 'spec_prior', 'priority', 'priority', 'spec_prior', 'not_recom', 'priority', 'spec_prior', 'priority', 'not_recom', 'priority', 'not_recom', 'priority', 'spec_prior', 'not_recom', 'priority', 'spec_prior', 'priority', 'priority', 'not_recom', 'not_recom', 'not_recom', 'priority', 'priority', 'not_recom', 'not_recom', 'spec_prior', 'spec_prior', 'not_recom', 'priority', 'not_recom', 'priority', 'priority', 'priority', 'not_recom', 'not_recom', 'not_recom', 'priority', 'spec_prior', 'spec_prior', 'priority', 'not_recom', 'priority', 'spec_prior', 'priority', 'priority', 'priority', 'spec_prior', 'priority', 'not_recom', 'priority', 'priority', 'not_recom', 'spec_prior', 'not_recom', 'spec_prior', 'spec_prior', 'spec_prior', 'not_recom', 'not_recom', 'not_recom', 'priority', 'priority', 'not_recom', 'spec_prior', 'priority', 'spec_prior', 'not_recom', 'spec_prior', 'spec_prior', 'not_recom', 'spec_prior', 'spec_prior', 'spec_prior', 'spec_prior', 'priority', 'spec_prior', 'not_recom', 'spec_prior', 'spec_prior', 'not_recom', 'not_recom', 'priority', 'spec_prior', 'not_recom', 'not_recom', 'priority', 'not_recom', 'not_recom', 'spec_prior', 'not_recom', 'spec_prior', 'not_recom', 'priority', 'not_recom', 'priority', 'spec_prior', 'not_recom', 'not_recom', 'not_recom', 'not_recom', 'not_recom', 'spec_prior', 'spec_prior', 'not_recom', 'priority', 'spec_prior', 'not_recom', 'spec_prior', 'priority', 'spec_prior', 'priority', 'priority', 'priority', 'priority', 'priority', 'priority', 'not_recom', 'spec_prior', 'not_recom', 'not_recom', 'not_recom', 'not_recom', 'priority', 'not_recom', 'priority', 'not_recom', 'priority', 'priority', 'priority', 'spec_prior', 'priority', 'not_recom', 'spec_prior', 'not_recom', 'spec_prior', 'priority', 'spec_prior', 'spec_prior', 'priority', 'spec_prior', 'not_recom', 'spec_prior', 'spec_prior', 'not_recom', 'not_recom', 'spec_prior', 'spec_prior', 'priority', 'spec_prior', 'priority', 'priority', 'priority', 'not_recom', 'spec_prior', 'not_recom', 'spec_prior', 'priority', 'not_recom', 'priority', 'priority', 'priority', 'not_recom', 'not_recom', 'priority', 'not_recom', 'spec_prior', 'priority', 'priority', 'priority', 'spec_prior', 'not_recom', 'spec_prior', 'not_recom', 'priority', 'spec_prior', 'not_recom', 'not_recom', 'not_recom', 'not_recom', 'spec_prior', 'priority', 'spec_prior', 'not_recom', 'spec_prior', 'priority', 'spec_prior', 'priority', 'spec_prior', 'priority', 'priority', 'spec_prior', 'not_recom', 'priority', 'not_recom', 'spec_prior', 'priority', 'not_recom', 'not_recom', 'spec_prior', 'priority', 'not_recom', 'not_recom', 'not_recom', 'priority', 'not_recom', 'spec_prior', 'spec_prior', 'not_recom', 'not_recom', 'not_recom', 'spec_prior', 'not_recom', 'spec_prior', 'spec_prior', 'priority', 'spec_prior', 'spec_prior', 'spec_prior', 'not_recom', 'priority', 'priority', 'spec_prior', 'not_recom', 'spec_prior', 'not_recom', 'not_recom', 'spec_prior', 'not_recom', 'spec_prior', 'priority', 'spec_prior', 'spec_prior', 'not_recom', 'priority', 'spec_prior', 'spec_prior', 'priority', 'spec_prior', 'not_recom', 'priority', 'spec_prior', 'priority', 'priority', 'not_recom', 'spec_prior', 'spec_prior', 'priority', 'priority', 'not_recom', 'not_recom', 'spec_prior', 'priority', 'not_recom', 'priority', 'not_recom', 'priority', 'priority', 'not_recom', 'priority', 'not_recom', 'priority', 'not_recom', 'not_recom', 'spec_prior', 'not_recom', 'not_recom', 'priority', 'priority', 'priority', 'spec_prior', 'not_recom', 'priority', 'priority', 'spec_prior', 'spec_prior', 'not_recom', 'priority', 'not_recom', 'priority', 'spec_prior', 'spec_prior', 'spec_prior', 'not_recom', 'spec_prior', 'not_recom', 'priority', 'not_recom', 'priority', 'not_recom', 'priority', 'not_recom', 'spec_prior', 'not_recom', 'not_recom', 'not_recom', 'not_recom', 'priority', 'priority', 'priority', 'not_recom', 'spec_prior', 'priority', 'not_recom', 'not_recom', 'spec_prior', 'priority', 'not_recom', 'priority', 'priority', 'priority', 'not_recom', 'not_recom', 'not_recom', 'priority', 'spec_prior', 'priority', 'priority', 'not_recom', 'not_recom', 'spec_prior', 'not_recom', 'not_recom', 'priority', 'priority', 'spec_prior', 'not_recom', 'not_recom', 'spec_prior', 'spec_prior', 'not_recom', 'priority', 'not_recom', 'priority', 'priority', 'not_recom', 'spec_prior', 'priority', 'spec_prior', 'spec_prior', 'spec_prior', 'not_recom', 'not_recom', 'not_recom', 'spec_prior', 'not_recom', 'not_recom', 'priority', 'not_recom', 'spec_prior', 'not_recom', 'spec_prior', 'not_recom', 'not_recom', 'priority', 'spec_prior', 'priority', 'spec_prior', 'priority', 'priority', 'priority', 'priority', 'spec_prior', 'not_recom', 'not_recom', 'spec_prior', 'priority', 'spec_prior', 'spec_prior', 'spec_prior', 'spec_prior', 'not_recom', 'spec_prior', 'not_recom', 'priority', 'priority', 'spec_prior', 'not_recom', 'spec_prior', 'priority', 'not_recom', 'priority', 'spec_prior', 'not_recom', 'not_recom', 'priority', 'not_recom', 'not_recom', 'priority', 'priority', 'priority', 'spec_prior', 'priority', 'spec_prior', 'spec_prior', 'not_recom', 'spec_prior', 'priority', 'priority', 'spec_prior', 'priority', 'spec_prior', 'spec_prior', 'spec_prior', 'not_recom', 'priority', 'spec_prior', 'priority', 'priority', 'priority', 'not_recom', 'spec_prior', 'not_recom', 'spec_prior', 'spec_prior', 'spec_prior', 'not_recom', 'not_recom', 'not_recom', 'not_recom', 'not_recom', 'priority', 'spec_prior', 'priority', 'not_recom', 'spec_prior', 'priority', 'not_recom', 'spec_prior', 'not_recom', 'spec_prior', 'priority', 'priority', 'priority', 'spec_prior', 'spec_prior', 'priority', 'not_recom', 'not_recom', 'spec_prior', 'not_recom', 'priority', 'spec_prior', 'spec_prior', 'priority', 'priority', 'not_recom', 'not_recom', 'priority', 'priority', 'priority', 'priority', 'spec_prior', 'not_recom', 'spec_prior', 'priority', 'priority', 'spec_prior', 'spec_prior', 'not_recom', 'not_recom', 'priority', 'not_recom', 'spec_prior', 'priority', 'spec_prior', 'not_recom', 'not_recom', 'priority', 'not_recom', 'spec_prior', 'priority', 'priority', 'spec_prior', 'spec_prior', 'spec_prior', 'priority', 'spec_prior', 'spec_prior', 'priority', 'spec_prior', 'not_recom', 'spec_prior', 'priority', 'not_recom', 'spec_prior', 'priority', 'priority', 'not_recom', 'not_recom', 'not_recom', 'spec_prior', 'not_recom', 'spec_prior', 'not_recom', 'not_recom', 'spec_prior', 'not_recom', 'not_recom', 'not_recom', 'not_recom', 'spec_prior', 'not_recom', 'not_recom', 'spec_prior', 'priority', 'priority', 'not_recom', 'spec_prior', 'not_recom', 'spec_prior', 'priority', 'not_recom', 'priority', 'spec_prior', 'not_recom', 'priority', 'priority', 'spec_prior', 'not_recom', 'spec_prior', 'priority', 'priority', 'not_recom', 'priority', 'not_recom', 'not_recom', 'spec_prior', 'not_recom', 'not_recom', 'priority', 'not_recom', 'not_recom', 'not_recom', 'priority', 'not_recom', 'spec_prior', 'not_recom', 'priority', 'priority', 'spec_prior', 'not_recom', 'spec_prior', 'priority', 'not_recom', 'priority', 'not_recom', 'spec_prior', 'priority', 'priority', 'priority', 'not_recom', 'spec_prior', 'not_recom', 'priority', 'priority', 'spec_prior', 'priority', 'priority', 'not_recom', 'priority', 'spec_prior', 'spec_prior', 'not_recom', 'not_recom', 'not_recom', 'not_recom', 'spec_prior', 'spec_prior', 'not_recom', 'very_recom', 'spec_prior', 'not_recom', 'priority', 'spec_prior', 'not_recom', 'not_recom', 'spec_prior', 'spec_prior', 'priority', 'priority', 'not_recom', 'priority', 'priority', 'not_recom', 'priority', 'priority', 'priority', 'priority', 'spec_prior', 'spec_prior', 'spec_prior', 'spec_prior', 'priority', 'priority', 'spec_prior', 'priority', 'priority', 'priority', 'spec_prior', 'spec_prior', 'priority', 'spec_prior', 'priority', 'not_recom', 'not_recom', 'not_recom', 'not_recom', 'not_recom', 'priority', 'spec_prior', 'not_recom', 'priority', 'not_recom', 'spec_prior', 'not_recom', 'not_recom', 'very_recom', 'priority', 'spec_prior', 'not_recom', 'spec_prior', 'spec_prior', 'spec_prior', 'priority', 'spec_prior', 'priority', 'priority', 'priority', 'priority', 'priority', 'spec_prior', 'priority', 'not_recom', 'priority', 'not_recom', 'not_recom', 'not_recom', 'not_recom', 'spec_prior', 'spec_prior', 'spec_prior', 'priority', 'spec_prior', 'not_recom', 'spec_prior', 'not_recom', 'spec_prior', 'spec_prior', 'priority', 'not_recom', 'spec_prior', 'priority', 'priority', 'spec_prior', 'not_recom', 'not_recom', 'spec_prior', 'not_recom', 'priority', 'spec_prior', 'priority', 'priority', 'priority', 'not_recom', 'spec_prior', 'not_recom', 'not_recom', 'priority', 'priority', 'priority', 'priority', 'not_recom', 'priority', 'spec_prior', 'spec_prior', 'priority', 'not_recom', 'not_recom', 'priority', 'priority', 'priority', 'not_recom', 'not_recom', 'not_recom', 'spec_prior', 'not_recom', 'not_recom', 'not_recom', 'priority', 'not_recom', 'spec_prior', 'not_recom', 'spec_prior', 'priority', 'not_recom', 'spec_prior', 'spec_prior', 'priority', 'not_recom', 'not_recom', 'spec_prior', 'spec_prior', 'not_recom', 'not_recom', 'not_recom', 'priority', 'priority', 'spec_prior', 'spec_prior', 'priority', 'priority', 'priority', 'priority', 'spec_prior', 'priority', 'not_recom', 'not_recom', 'spec_prior', 'spec_prior', 'priority', 'spec_prior', 'not_recom', 'priority', 'not_recom', 'spec_prior', 'spec_prior', 'spec_prior', 'priority', 'priority', 'priority', 'priority', 'not_recom', 'not_recom', 'priority', 'spec_prior', 'priority', 'spec_prior', 'spec_prior', 'priority', 'not_recom', 'spec_prior', 'spec_prior', 'not_recom', 'spec_prior', 'priority', 'spec_prior', 'priority', 'priority', 'not_recom', 'priority', 'not_recom', 'priority', 'priority', 'spec_prior', 'not_recom', 'priority', 'not_recom', 'priority', 'spec_prior', 'priority', 'priority', 'priority', 'not_recom', 'not_recom', 'priority', 'spec_prior', 'not_recom', 'spec_prior', 'spec_prior', 'priority', 'not_recom', 'not_recom', 'not_recom', 'priority', 'priority', 'priority', 'not_recom', 'not_recom', 'not_recom', 'priority', 'priority', 'spec_prior', 'spec_prior', 'not_recom', 'priority', 'priority', 'priority', 'not_recom', 'priority', 'spec_prior', 'priority', 'priority', 'spec_prior', 'priority', 'spec_prior', 'priority', 'not_recom', 'not_recom', 'not_recom', 'spec_prior', 'priority', 'spec_prior', 'not_recom', 'spec_prior', 'not_recom', 'priority', 'not_recom', 'priority', 'not_recom', 'spec_prior', 'priority', 'not_recom', 'priority', 'not_recom', 'spec_prior', 'not_recom', 'spec_prior', 'not_recom', 'priority', 'priority', 'spec_prior', 'priority', 'not_recom', 'priority', 'spec_prior', 'priority', 'not_recom', 'priority', 'priority', 'spec_prior', 'not_recom', 'not_recom', 'not_recom', 'not_recom', 'priority', 'spec_prior', 'spec_prior', 'priority', 'spec_prior', 'priority', 'spec_prior', 'not_recom', 'not_recom', 'not_recom', 'spec_prior', 'spec_prior', 'spec_prior', 'not_recom', 'spec_prior', 'not_recom', 'spec_prior', 'priority', 'priority', 'spec_prior', 'not_recom', 'priority', 'priority', 'spec_prior', 'spec_prior', 'not_recom', 'priority', 'not_recom', 'not_recom', 'not_recom', 'priority', 'not_recom', 'spec_prior', 'not_recom', 'spec_prior', 'not_recom', 'spec_prior', 'priority', 'priority', 'priority', 'priority', 'not_recom', 'priority', 'priority', 'spec_prior', 'spec_prior', 'spec_prior', 'priority', 'spec_prior', 'spec_prior', 'spec_prior', 'spec_prior', 'priority', 'spec_prior', 'priority', 'spec_prior', 'spec_prior', 'spec_prior', 'not_recom', 'not_recom', 'not_recom', 'spec_prior', 'not_recom', 'not_recom', 'spec_prior', 'spec_prior', 'spec_prior', 'not_recom', 'priority', 'priority', 'not_recom', 'priority', 'not_recom', 'spec_prior', 'not_recom', 'spec_prior', 'spec_prior', 'priority', 'priority', 'spec_prior', 'priority', 'spec_prior', 'priority', 'spec_prior', 'priority', 'not_recom', 'priority', 'spec_prior', 'priority', 'priority', 'priority', 'spec_prior', 'priority', 'spec_prior', 'not_recom', 'priority', 'priority', 'priority', 'spec_prior', 'spec_prior', 'not_recom', 'priority', 'spec_prior', 'priority', 'priority', 'spec_prior', 'spec_prior', 'not_recom', 'not_recom', 'not_recom', 'not_recom', 'spec_prior', 'priority', 'priority', 'spec_prior', 'priority', 'priority', 'priority', 'spec_prior', 'spec_prior', 'spec_prior', 'priority', 'very_recom', 'spec_prior', 'not_recom', 'spec_prior', 'spec_prior', 'not_recom', 'not_recom', 'spec_prior', 'priority', 'priority', 'not_recom', 'not_recom', 'spec_prior', 'not_recom', 'priority', 'priority', 'not_recom', 'priority', 'priority', 'priority', 'priority', 'priority', 'spec_prior', 'not_recom', 'not_recom', 'spec_prior', 'priority', 'not_recom', 'spec_prior', 'spec_prior', 'priority', 'priority', 'not_recom', 'spec_prior', 'priority', 'spec_prior', 'spec_prior', 'priority', 'priority', 'not_recom', 'not_recom', 'spec_prior', 'not_recom', 'priority', 'not_recom', 'spec_prior', 'spec_prior', 'priority', 'priority', 'priority', 'not_recom', 'spec_prior', 'priority', 'priority', 'not_recom', 'spec_prior', 'not_recom', 'spec_prior', 'spec_prior', 'not_recom', 'spec_prior', 'priority', 'not_recom', 'priority', 'spec_prior', 'spec_prior', 'spec_prior', 'spec_prior', 'spec_prior', 'not_recom', 'not_recom', 'priority', 'priority', 'not_recom', 'spec_prior', 'not_recom', 'spec_prior', 'spec_prior', 'priority', 'priority', 'not_recom', 'not_recom', 'not_recom', 'spec_prior', 'priority', 'not_recom', 'priority', 'not_recom', 'spec_prior', 'not_recom', 'spec_prior', 'priority', 'priority', 'priority', 'not_recom', 'spec_prior', 'not_recom', 'not_recom', 'spec_prior', 'priority', 'not_recom', 'priority', 'not_recom', 'priority', 'priority', 'spec_prior', 'spec_prior', 'not_recom', 'spec_prior', 'not_recom', 'spec_prior', 'spec_prior', 'spec_prior', 'spec_prior', 'priority', 'priority', 'spec_prior', 'not_recom', 'spec_prior', 'not_recom', 'not_recom', 'priority', 'priority', 'spec_prior', 'spec_prior', 'priority', 'priority', 'spec_prior', 'priority', 'priority', 'not_recom', 'priority', 'priority', 'spec_prior', 'spec_prior', 'priority', 'spec_prior', 'spec_prior', 'priority', 'not_recom', 'spec_prior', 'priority', 'priority', 'not_recom', 'not_recom', 'priority', 'priority', 'priority', 'not_recom', 'priority', 'not_recom', 'spec_prior', 'priority', 'priority', 'not_recom', 'not_recom', 'not_recom', 'not_recom', 'priority', 'spec_prior', 'spec_prior', 'not_recom', 'spec_prior', 'not_recom', 'priority', 'priority', 'not_recom', 'priority', 'spec_prior', 'not_recom', 'spec_prior', 'not_recom', 'not_recom', 'priority', 'spec_prior', 'spec_prior', 'spec_prior', 'priority', 'spec_prior', 'not_recom', 'priority', 'priority', 'not_recom', 'priority', 'spec_prior', 'not_recom', 'spec_prior', 'not_recom', 'not_recom', 'not_recom', 'not_recom', 'priority', 'spec_prior', 'priority', 'spec_prior', 'not_recom', 'spec_prior', 'priority', 'not_recom', 'not_recom', 'not_recom', 'not_recom', 'spec_prior', 'spec_prior', 'spec_prior', 'spec_prior', 'not_recom', 'not_recom', 'priority', 'not_recom', 'spec_prior', 'spec_prior', 'priority', 'priority', 'spec_prior', 'not_recom', 'spec_prior', 'not_recom', 'priority', 'spec_prior', 'priority', 'not_recom', 'not_recom', 'spec_prior', 'priority', 'not_recom', 'spec_prior', 'not_recom', 'priority', 'spec_prior', 'spec_prior', 'spec_prior', 'spec_prior', 'priority', 'not_recom', 'spec_prior', 'not_recom', 'priority', 'spec_prior', 'spec_prior', 'spec_prior', 'not_recom', 'spec_prior', 'spec_prior', 'priority', 'spec_prior', 'not_recom', 'not_recom', 'priority', 'spec_prior', 'not_recom', 'priority', 'not_recom', 'priority', 'spec_prior', 'priority', 'spec_prior', 'spec_prior', 'priority', 'priority', 'not_recom', 'priority', 'priority', 'spec_prior', 'spec_prior', 'priority', 'not_recom', 'priority', 'not_recom', 'not_recom', 'not_recom', 'not_recom', 'spec_prior', 'spec_prior', 'not_recom', 'not_recom', 'not_recom', 'not_recom', 'not_recom', 'priority', 'spec_prior', 'spec_prior', 'priority', 'priority', 'spec_prior', 'spec_prior', 'spec_prior', 'spec_prior', 'not_recom', 'priority', 'not_recom', 'priority', 'not_recom', 'spec_prior', 'not_recom', 'spec_prior', 'not_recom', 'spec_prior', 'not_recom', 'spec_prior', 'priority', 'not_recom', 'not_recom', 'not_recom', 'priority', 'not_recom', 'priority', 'not_recom', 'priority', 'not_recom', 'not_recom', 'not_recom', 'not_recom', 'spec_prior', 'spec_prior', 'priority', 'not_recom', 'not_recom', 'priority', 'not_recom', 'priority', 'spec_prior', 'priority', 'not_recom', 'priority', 'not_recom', 'not_recom', 'spec_prior', 'priority', 'not_recom', 'not_recom', 'priority', 'priority', 'not_recom', 'priority', 'priority', 'priority', 'priority', 'priority', 'priority', 'not_recom', 'not_recom', 'not_recom', 'spec_prior', 'spec_prior', 'not_recom', 'priority', 'not_recom', 'priority', 'priority', 'spec_prior', 'spec_prior', 'priority', 'priority', 'priority', 'priority', 'spec_prior', 'spec_prior', 'priority', 'not_recom', 'spec_prior', 'spec_prior', 'spec_prior', 'priority', 'spec_prior', 'priority', 'not_recom', 'spec_prior', 'spec_prior', 'priority', 'priority', 'not_recom', 'not_recom', 'not_recom', 'priority', 'not_recom', 'priority', 'spec_prior', 'priority', 'spec_prior', 'priority', 'spec_prior', 'priority', 'priority', 'priority', 'priority', 'not_recom', 'priority', 'spec_prior', 'priority', 'not_recom', 'spec_prior', 'spec_prior', 'not_recom', 'priority', 'priority', 'not_recom', 'not_recom', 'spec_prior', 'priority', 'priority', 'priority', 'priority', 'not_recom', 'spec_prior', 'priority', 'priority', 'spec_prior', 'spec_prior', 'priority', 'not_recom', 'priority', 'priority', 'spec_prior', 'not_recom', 'not_recom', 'not_recom', 'spec_prior', 'priority', 'priority', 'priority', 'not_recom', 'priority', 'spec_prior', 'spec_prior', 'priority', 'priority', 'priority', 'priority', 'spec_prior', 'priority', 'not_recom', 'priority', 'priority', 'not_recom', 'not_recom', 'spec_prior', 'not_recom', 'not_recom', 'not_recom', 'priority', 'not_recom', 'spec_prior', 'priority', 'priority', 'spec_prior', 'priority', 'not_recom', 'spec_prior', 'not_recom', 'not_recom', 'priority', 'not_recom', 'not_recom', 'spec_prior', 'spec_prior', 'spec_prior', 'not_recom', 'spec_prior', 'not_recom', 'priority', 'not_recom', 'priority', 'spec_prior', 'spec_prior', 'priority', 'spec_prior', 'priority', 'not_recom', 'spec_prior', 'not_recom', 'not_recom', 'spec_prior', 'priority', 'priority', 'not_recom', 'spec_prior', 'not_recom', 'spec_prior', 'priority', 'spec_prior', 'not_recom', 'priority', 'not_recom', 'priority', 'spec_prior', 'not_recom', 'spec_prior', 'priority', 'priority', 'not_recom', 'spec_prior', 'not_recom', 'priority', 'priority', 'spec_prior', 'not_recom', 'spec_prior', 'not_recom', 'not_recom', 'not_recom', 'priority', 'priority', 'priority', 'priority', 'priority', 'spec_prior', 'priority', 'spec_prior', 'not_recom', 'priority', 'priority', 'priority', 'spec_prior', 'priority', 'not_recom', 'spec_prior', 'priority', 'spec_prior', 'priority', 'spec_prior', 'not_recom', 'priority', 'not_recom', 'not_recom', 'spec_prior', 'not_recom', 'not_recom', 'spec_prior', 'spec_prior', 'spec_prior', 'spec_prior', 'spec_prior', 'spec_prior', 'spec_prior', 'not_recom', 'priority', 'priority', 'spec_prior', 'spec_prior', 'spec_prior', 'priority', 'priority', 'spec_prior', 'spec_prior', 'spec_prior', 'spec_prior', 'not_recom', 'not_recom', 'priority', 'not_recom', 'spec_prior', 'spec_prior', 'not_recom', 'not_recom', 'spec_prior', 'not_recom', 'priority', 'spec_prior', 'priority', 'priority', 'priority', 'spec_prior', 'priority', 'spec_prior', 'not_recom', 'priority', 'priority', 'priority', 'not_recom', 'not_recom', 'not_recom', 'spec_prior', 'priority', 'not_recom', 'spec_prior', 'spec_prior', 'not_recom', 'not_recom', 'not_recom', 'priority', 'spec_prior', 'priority', 'spec_prior', 'spec_prior', 'priority', 'priority', 'not_recom', 'not_recom', 'not_recom', 'priority', 'not_recom', 'priority', 'priority', 'priority', 'not_recom', 'priority', 'priority', 'not_recom', 'not_recom', 'priority', 'not_recom', 'priority', 'priority', 'not_recom', 'spec_prior', 'priority', 'not_recom', 'priority', 'spec_prior', 'priority', 'not_recom', 'not_recom', 'priority', 'priority', 'not_recom', 'not_recom', 'priority', 'priority', 'not_recom', 'priority', 'not_recom', 'not_recom', 'priority', 'not_recom', 'not_recom', 'spec_prior', 'spec_prior', 'spec_prior', 'not_recom', 'spec_prior', 'priority', 'priority', 'spec_prior', 'spec_prior', 'priority', 'priority', 'spec_prior', 'priority', 'spec_prior', 'priority', 'priority', 'not_recom', 'not_recom', 'priority', 'priority', 'priority', 'spec_prior', 'not_recom', 'priority', 'not_recom', 'not_recom', 'spec_prior', 'spec_prior', 'not_recom', 'not_recom', 'not_recom', 'spec_prior', 'not_recom', 'not_recom', 'priority', 'priority', 'spec_prior', 'not_recom', 'spec_prior', 'not_recom', 'not_recom', 'priority', 'priority', 'not_recom', 'priority', 'not_recom', 'not_recom', 'not_recom', 'spec_prior', 'priority', 'priority', 'spec_prior', 'not_recom', 'priority', 'not_recom', 'priority', 'spec_prior', 'spec_prior', 'priority', 'priority', 'priority', 'priority', 'priority', 'priority', 'spec_prior', 'not_recom', 'spec_prior', 'priority', 'priority', 'priority', 'not_recom', 'spec_prior', 'priority', 'spec_prior', 'not_recom', 'not_recom', 'not_recom', 'spec_prior', 'not_recom', 'spec_prior', 'priority', 'not_recom', 'priority', 'not_recom', 'not_recom', 'not_recom', 'priority', 'spec_prior', 'not_recom', 'not_recom', 'spec_prior', 'priority', 'not_recom', 'priority', 'not_recom', 'priority', 'spec_prior', 'priority', 'priority', 'priority', 'not_recom', 'spec_prior', 'spec_prior', 'spec_prior', 'priority', 'spec_prior', 'spec_prior', 'spec_prior', 'spec_prior', 'not_recom', 'priority', 'spec_prior', 'priority', 'spec_prior', 'not_recom', 'not_recom', 'not_recom', 'spec_prior', 'priority', 'not_recom', 'not_recom', 'spec_prior', 'spec_prior', 'not_recom', 'priority', 'priority', 'priority', 'not_recom', 'not_recom', 'spec_prior', 'not_recom', 'spec_prior', 'priority', 'priority', 'priority', 'not_recom', 'priority', 'not_recom', 'spec_prior', 'priority', 'not_recom', 'spec_prior', 'not_recom', 'priority', 'spec_prior', 'not_recom', 'not_recom', 'not_recom', 'spec_prior', 'spec_prior', 'not_recom', 'priority', 'priority', 'not_recom', 'not_recom', 'priority', 'spec_prior', 'priority', 'spec_prior', 'not_recom', 'spec_prior', 'priority', 'priority', 'not_recom', 'priority', 'spec_prior', 'spec_prior', 'spec_prior', 'not_recom', 'spec_prior', 'spec_prior', 'priority', 'not_recom', 'spec_prior', 'not_recom', 'spec_prior', 'priority', 'not_recom', 'not_recom', 'spec_prior', 'priority', 'priority', 'not_recom', 'priority', 'priority', 'not_recom', 'spec_prior', 'not_recom', 'spec_prior', 'not_recom', 'not_recom', 'spec_prior', 'not_recom', 'not_recom', 'priority', 'priority', 'not_recom', 'priority', 'spec_prior', 'not_recom', 'not_recom', 'spec_prior', 'spec_prior', 'spec_prior', 'spec_prior', 'priority', 'spec_prior', 'priority', 'not_recom', 'not_recom', 'spec_prior', 'spec_prior']\n"
          ],
          "name": "stdout"
        }
      ]
    },
    {
      "cell_type": "code",
      "metadata": {
        "id": "11FUARxm9_6p",
        "colab": {
          "base_uri": "https://localhost:8080/"
        },
        "outputId": "a4e14ffc-5b9f-462c-a663-d949a54e2c2a"
      },
      "source": [
        "## showing results\n",
        "\n",
        "from sklearn.metrics import confusion_matrix\n",
        "from sklearn.metrics import classification_report\n",
        "\n",
        "matrix = confusion_matrix(y_test, y_predicted)\n",
        "\n",
        "print(f\"\\nconfusuin matrix :\\n {matrix}\\n\\n\")\n",
        "\n",
        "\n",
        "diagonal_sum = 0\n",
        "total_sum = 0\n",
        "\n",
        "  #calculating diagonal sum and total sum from confusion matrix\n",
        "for i in range(matrix.shape[0]):\n",
        "  for j in range(matrix.shape[1]):\n",
        "    if i == j:\n",
        "      diagonal_sum += matrix[i,j]\n",
        "    total_sum += matrix[i,j]\n",
        "print(f\"\\nAccuracy = {(diagonal_sum/total_sum)*100}%\\n\\n\")\n",
        "\n",
        "\n",
        "print(f\"{classification_report(y_test, y_predicted)}\" )"
      ],
      "execution_count": null,
      "outputs": [
        {
          "output_type": "stream",
          "text": [
            "\n",
            "confusuin matrix :\n",
            " [[896   0   0   0]\n",
            " [  0 762  76   0]\n",
            " [  0  84 714   0]\n",
            " [  0  57   0   3]]\n",
            "\n",
            "\n",
            "\n",
            "Accuracy = 91.62808641975309%\n",
            "\n",
            "\n",
            "              precision    recall  f1-score   support\n",
            "\n",
            "   not_recom       1.00      1.00      1.00       896\n",
            "    priority       0.84      0.91      0.88       838\n",
            "  spec_prior       0.90      0.89      0.90       798\n",
            "  very_recom       1.00      0.05      0.10        60\n",
            "\n",
            "    accuracy                           0.92      2592\n",
            "   macro avg       0.94      0.71      0.72      2592\n",
            "weighted avg       0.92      0.92      0.91      2592\n",
            "\n"
          ],
          "name": "stdout"
        }
      ]
    },
    {
      "cell_type": "code",
      "metadata": {
        "id": "Yjrnbm9It9S9"
      },
      "source": [
        ""
      ],
      "execution_count": null,
      "outputs": []
    }
  ]
}